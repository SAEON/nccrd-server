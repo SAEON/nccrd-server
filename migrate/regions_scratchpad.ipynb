{
 "cells": [
  {
   "cell_type": "code",
   "id": "115826ed",
   "metadata": {
    "ExecuteTime": {
     "end_time": "2025-06-09T08:09:20.893820Z",
     "start_time": "2025-06-09T08:09:20.881280Z"
    }
   },
   "source": [
    "# pip install geopandas pip install GeoAlchemy2\n",
    "# pip install GeoAlchemy2\n",
    "# pip install shapely\n"
   ],
   "outputs": [
    {
     "ename": "SyntaxError",
     "evalue": "invalid syntax (3893968277.py, line 3)",
     "output_type": "error",
     "traceback": [
      "\u001B[0;36m  Cell \u001B[0;32mIn[28], line 3\u001B[0;36m\u001B[0m\n\u001B[0;31m    pip install shapely\u001B[0m\n\u001B[0m        ^\u001B[0m\n\u001B[0;31mSyntaxError\u001B[0m\u001B[0;31m:\u001B[0m invalid syntax\n"
     ]
    }
   ],
   "execution_count": 28
  },
  {
   "metadata": {
    "ExecuteTime": {
     "end_time": "2025-06-09T08:09:57.564614Z",
     "start_time": "2025-06-09T08:09:54.656661Z"
    }
   },
   "cell_type": "code",
   "source": "pip install shapely",
   "id": "2c90ca06897ed545",
   "outputs": [
    {
     "name": "stdout",
     "output_type": "stream",
     "text": [
      "Requirement already satisfied: shapely in /home/n.bingani/Documents/Work/nccrd-build/nccrd-server/.venv/lib/python3.10/site-packages (2.1.1)\r\n",
      "Requirement already satisfied: numpy>=1.21 in /home/n.bingani/Documents/Work/nccrd-build/nccrd-server/.venv/lib/python3.10/site-packages (from shapely) (2.2.5)\r\n",
      "\r\n",
      "\u001B[1m[\u001B[0m\u001B[34;49mnotice\u001B[0m\u001B[1;39;49m]\u001B[0m\u001B[39;49m A new release of pip is available: \u001B[0m\u001B[31;49m25.0.1\u001B[0m\u001B[39;49m -> \u001B[0m\u001B[32;49m25.1.1\u001B[0m\r\n",
      "\u001B[1m[\u001B[0m\u001B[34;49mnotice\u001B[0m\u001B[1;39;49m]\u001B[0m\u001B[39;49m To update, run: \u001B[0m\u001B[32;49m/home/n.bingani/Documents/Work/nccrd-build/nccrd-server/.venv/bin/python -m pip install --upgrade pip\u001B[0m\r\n",
      "Note: you may need to restart the kernel to use updated packages.\n"
     ]
    }
   ],
   "execution_count": 31
  },
  {
   "cell_type": "code",
   "id": "08544159",
   "metadata": {
    "ExecuteTime": {
     "end_time": "2025-06-09T08:09:47.536144Z",
     "start_time": "2025-06-09T08:09:37.534554Z"
    }
   },
   "source": [
    "import geopandas as gpd\n",
    "import pandas as pd\n",
    "import os\n",
    "\n",
    "print(os.getcwd())\n",
    "gdf__country = gpd.read_file('./region_data/south_africa_South_Africa_Country_Boundary.geojson')\n",
    "gdf_province = pd.read_csv('./region_data/provinces.csv')\n",
    "gdf_district = gpd.read_file('./region_data/DistrictMunicipality2018.json')\n",
    "gdf_local_district = gpd.read_file('./region_data/LocalMunicipality2018.json')\n",
    "# gdf_ward = gpd.read_file('Ward2018.json')\n",
    "# sub_places = gpd.read_file('SubPlace2018.json')"
   ],
   "outputs": [
    {
     "name": "stdout",
     "output_type": "stream",
     "text": [
      "/home/n.bingani/Documents/Work/nccrd-build/nccrd-server/migrate\n"
     ]
    }
   ],
   "execution_count": 29
  },
  {
   "cell_type": "code",
   "id": "27062856",
   "metadata": {
    "ExecuteTime": {
     "end_time": "2025-06-09T08:03:36.801860Z",
     "start_time": "2025-06-09T08:03:36.554434Z"
    }
   },
   "source": [
    "print(gdf__country.shape)\n",
    "gdf__country.head()"
   ],
   "outputs": [
    {
     "name": "stdout",
     "output_type": "stream",
     "text": [
      "(1, 7)\n"
     ]
    },
    {
     "data": {
      "text/plain": [
       "         shape0 shapeiso                  shapeid shapegroup shapetype  gid  \\\n",
       "0  South Africa      ZAF  27424455B76804586687927        ZAF      ADM0    1   \n",
       "\n",
       "                                            geometry  \n",
       "0  MULTIPOLYGON (((19.41807 -34.68668, 19.41806 -...  "
      ],
      "text/html": [
       "<div>\n",
       "<style scoped>\n",
       "    .dataframe tbody tr th:only-of-type {\n",
       "        vertical-align: middle;\n",
       "    }\n",
       "\n",
       "    .dataframe tbody tr th {\n",
       "        vertical-align: top;\n",
       "    }\n",
       "\n",
       "    .dataframe thead th {\n",
       "        text-align: right;\n",
       "    }\n",
       "</style>\n",
       "<table border=\"1\" class=\"dataframe\">\n",
       "  <thead>\n",
       "    <tr style=\"text-align: right;\">\n",
       "      <th></th>\n",
       "      <th>shape0</th>\n",
       "      <th>shapeiso</th>\n",
       "      <th>shapeid</th>\n",
       "      <th>shapegroup</th>\n",
       "      <th>shapetype</th>\n",
       "      <th>gid</th>\n",
       "      <th>geometry</th>\n",
       "    </tr>\n",
       "  </thead>\n",
       "  <tbody>\n",
       "    <tr>\n",
       "      <th>0</th>\n",
       "      <td>South Africa</td>\n",
       "      <td>ZAF</td>\n",
       "      <td>27424455B76804586687927</td>\n",
       "      <td>ZAF</td>\n",
       "      <td>ADM0</td>\n",
       "      <td>1</td>\n",
       "      <td>MULTIPOLYGON (((19.41807 -34.68668, 19.41806 -...</td>\n",
       "    </tr>\n",
       "  </tbody>\n",
       "</table>\n",
       "</div>"
      ]
     },
     "execution_count": 21,
     "metadata": {},
     "output_type": "execute_result"
    }
   ],
   "execution_count": 21
  },
  {
   "cell_type": "code",
   "id": "63b7f36d",
   "metadata": {
    "ExecuteTime": {
     "end_time": "2025-06-09T08:03:37.377329Z",
     "start_time": "2025-06-09T08:03:37.340934Z"
    }
   },
   "source": [
    "# Display the first few rows of the GeoDataFrame\n",
    "print(gdf_province.shape)\n",
    "gdf_province.head()"
   ],
   "outputs": [
    {
     "name": "stdout",
     "output_type": "stream",
     "text": [
      "(9, 11)\n"
     ]
    },
    {
     "data": {
      "text/plain": [
       "  PR_MDB_C  PR_CODE  PR_CODE_st        PR_NAME     ALBERS_ARE  SHAPE_Leng  \\\n",
       "0       EC        2           2   Eastern Cape  168965.967455   28.206381   \n",
       "1       FS        4           4     Free State  129825.156440   24.249596   \n",
       "2       GT        7           7        Gauteng   18178.305525   10.967065   \n",
       "3      KZN        5           5  Kwazulu-Natal   94361.317676   19.024784   \n",
       "4      LIM        9           9        Limpopo  124004.283867   22.858145   \n",
       "\n",
       "           X          Y  Shape__Area  Shape__Length  FID  \n",
       "0  26.446400 -32.153999    16.154667      28.206381    1  \n",
       "1  26.867300 -28.614401    11.979428      24.249596    2  \n",
       "2  28.125799 -26.106100     1.640382      10.967065    3  \n",
       "3  30.748600 -28.716600     8.715379      19.024784    4  \n",
       "4  29.372101 -23.209299    11.456108      22.858145    5  "
      ],
      "text/html": [
       "<div>\n",
       "<style scoped>\n",
       "    .dataframe tbody tr th:only-of-type {\n",
       "        vertical-align: middle;\n",
       "    }\n",
       "\n",
       "    .dataframe tbody tr th {\n",
       "        vertical-align: top;\n",
       "    }\n",
       "\n",
       "    .dataframe thead th {\n",
       "        text-align: right;\n",
       "    }\n",
       "</style>\n",
       "<table border=\"1\" class=\"dataframe\">\n",
       "  <thead>\n",
       "    <tr style=\"text-align: right;\">\n",
       "      <th></th>\n",
       "      <th>PR_MDB_C</th>\n",
       "      <th>PR_CODE</th>\n",
       "      <th>PR_CODE_st</th>\n",
       "      <th>PR_NAME</th>\n",
       "      <th>ALBERS_ARE</th>\n",
       "      <th>SHAPE_Leng</th>\n",
       "      <th>X</th>\n",
       "      <th>Y</th>\n",
       "      <th>Shape__Area</th>\n",
       "      <th>Shape__Length</th>\n",
       "      <th>FID</th>\n",
       "    </tr>\n",
       "  </thead>\n",
       "  <tbody>\n",
       "    <tr>\n",
       "      <th>0</th>\n",
       "      <td>EC</td>\n",
       "      <td>2</td>\n",
       "      <td>2</td>\n",
       "      <td>Eastern Cape</td>\n",
       "      <td>168965.967455</td>\n",
       "      <td>28.206381</td>\n",
       "      <td>26.446400</td>\n",
       "      <td>-32.153999</td>\n",
       "      <td>16.154667</td>\n",
       "      <td>28.206381</td>\n",
       "      <td>1</td>\n",
       "    </tr>\n",
       "    <tr>\n",
       "      <th>1</th>\n",
       "      <td>FS</td>\n",
       "      <td>4</td>\n",
       "      <td>4</td>\n",
       "      <td>Free State</td>\n",
       "      <td>129825.156440</td>\n",
       "      <td>24.249596</td>\n",
       "      <td>26.867300</td>\n",
       "      <td>-28.614401</td>\n",
       "      <td>11.979428</td>\n",
       "      <td>24.249596</td>\n",
       "      <td>2</td>\n",
       "    </tr>\n",
       "    <tr>\n",
       "      <th>2</th>\n",
       "      <td>GT</td>\n",
       "      <td>7</td>\n",
       "      <td>7</td>\n",
       "      <td>Gauteng</td>\n",
       "      <td>18178.305525</td>\n",
       "      <td>10.967065</td>\n",
       "      <td>28.125799</td>\n",
       "      <td>-26.106100</td>\n",
       "      <td>1.640382</td>\n",
       "      <td>10.967065</td>\n",
       "      <td>3</td>\n",
       "    </tr>\n",
       "    <tr>\n",
       "      <th>3</th>\n",
       "      <td>KZN</td>\n",
       "      <td>5</td>\n",
       "      <td>5</td>\n",
       "      <td>Kwazulu-Natal</td>\n",
       "      <td>94361.317676</td>\n",
       "      <td>19.024784</td>\n",
       "      <td>30.748600</td>\n",
       "      <td>-28.716600</td>\n",
       "      <td>8.715379</td>\n",
       "      <td>19.024784</td>\n",
       "      <td>4</td>\n",
       "    </tr>\n",
       "    <tr>\n",
       "      <th>4</th>\n",
       "      <td>LIM</td>\n",
       "      <td>9</td>\n",
       "      <td>9</td>\n",
       "      <td>Limpopo</td>\n",
       "      <td>124004.283867</td>\n",
       "      <td>22.858145</td>\n",
       "      <td>29.372101</td>\n",
       "      <td>-23.209299</td>\n",
       "      <td>11.456108</td>\n",
       "      <td>22.858145</td>\n",
       "      <td>5</td>\n",
       "    </tr>\n",
       "  </tbody>\n",
       "</table>\n",
       "</div>"
      ]
     },
     "execution_count": 22,
     "metadata": {},
     "output_type": "execute_result"
    }
   ],
   "execution_count": 22
  },
  {
   "cell_type": "code",
   "id": "b28a6609",
   "metadata": {
    "ExecuteTime": {
     "end_time": "2025-06-09T08:03:38.627438Z",
     "start_time": "2025-06-09T08:03:38.428328Z"
    }
   },
   "source": [
    "print(gdf_district.shape)\n",
    "gdf_district.head()"
   ],
   "outputs": [
    {
     "name": "stdout",
     "output_type": "stream",
     "text": [
      "(52, 7)\n"
     ]
    },
    {
     "data": {
      "text/plain": [
       "   FID PROVINCE DISTRICT      DISTRICT_N           DATE CATEGORY  \\\n",
       "0    0       EC      BUF    Buffalo City  1561420800000        A   \n",
       "1    1       EC     DC10  Sarah Baartman  1561420800000        C   \n",
       "2    2       EC     DC12        Amathole  1561420800000        C   \n",
       "3    3       EC     DC13      Chris Hani  1561420800000        C   \n",
       "4    4       EC     DC14       Joe Gqabi  1561420800000        C   \n",
       "\n",
       "                                            geometry  \n",
       "0  POLYGON ((27.35458 -32.67444, 27.35393 -32.674...  \n",
       "1  POLYGON ((24.63581 -31.71836, 24.62785 -31.712...  \n",
       "2  POLYGON ((28.26665 -31.80154, 28.26643 -31.801...  \n",
       "3  POLYGON ((26.37107 -31.18372, 26.37098 -31.183...  \n",
       "4  POLYGON ((27.45974 -30.31326, 27.4592 -30.3132...  "
      ],
      "text/html": [
       "<div>\n",
       "<style scoped>\n",
       "    .dataframe tbody tr th:only-of-type {\n",
       "        vertical-align: middle;\n",
       "    }\n",
       "\n",
       "    .dataframe tbody tr th {\n",
       "        vertical-align: top;\n",
       "    }\n",
       "\n",
       "    .dataframe thead th {\n",
       "        text-align: right;\n",
       "    }\n",
       "</style>\n",
       "<table border=\"1\" class=\"dataframe\">\n",
       "  <thead>\n",
       "    <tr style=\"text-align: right;\">\n",
       "      <th></th>\n",
       "      <th>FID</th>\n",
       "      <th>PROVINCE</th>\n",
       "      <th>DISTRICT</th>\n",
       "      <th>DISTRICT_N</th>\n",
       "      <th>DATE</th>\n",
       "      <th>CATEGORY</th>\n",
       "      <th>geometry</th>\n",
       "    </tr>\n",
       "  </thead>\n",
       "  <tbody>\n",
       "    <tr>\n",
       "      <th>0</th>\n",
       "      <td>0</td>\n",
       "      <td>EC</td>\n",
       "      <td>BUF</td>\n",
       "      <td>Buffalo City</td>\n",
       "      <td>1561420800000</td>\n",
       "      <td>A</td>\n",
       "      <td>POLYGON ((27.35458 -32.67444, 27.35393 -32.674...</td>\n",
       "    </tr>\n",
       "    <tr>\n",
       "      <th>1</th>\n",
       "      <td>1</td>\n",
       "      <td>EC</td>\n",
       "      <td>DC10</td>\n",
       "      <td>Sarah Baartman</td>\n",
       "      <td>1561420800000</td>\n",
       "      <td>C</td>\n",
       "      <td>POLYGON ((24.63581 -31.71836, 24.62785 -31.712...</td>\n",
       "    </tr>\n",
       "    <tr>\n",
       "      <th>2</th>\n",
       "      <td>2</td>\n",
       "      <td>EC</td>\n",
       "      <td>DC12</td>\n",
       "      <td>Amathole</td>\n",
       "      <td>1561420800000</td>\n",
       "      <td>C</td>\n",
       "      <td>POLYGON ((28.26665 -31.80154, 28.26643 -31.801...</td>\n",
       "    </tr>\n",
       "    <tr>\n",
       "      <th>3</th>\n",
       "      <td>3</td>\n",
       "      <td>EC</td>\n",
       "      <td>DC13</td>\n",
       "      <td>Chris Hani</td>\n",
       "      <td>1561420800000</td>\n",
       "      <td>C</td>\n",
       "      <td>POLYGON ((26.37107 -31.18372, 26.37098 -31.183...</td>\n",
       "    </tr>\n",
       "    <tr>\n",
       "      <th>4</th>\n",
       "      <td>4</td>\n",
       "      <td>EC</td>\n",
       "      <td>DC14</td>\n",
       "      <td>Joe Gqabi</td>\n",
       "      <td>1561420800000</td>\n",
       "      <td>C</td>\n",
       "      <td>POLYGON ((27.45974 -30.31326, 27.4592 -30.3132...</td>\n",
       "    </tr>\n",
       "  </tbody>\n",
       "</table>\n",
       "</div>"
      ]
     },
     "execution_count": 23,
     "metadata": {},
     "output_type": "execute_result"
    }
   ],
   "execution_count": 23
  },
  {
   "cell_type": "code",
   "id": "5d0fb3b6",
   "metadata": {
    "ExecuteTime": {
     "end_time": "2025-06-09T08:03:39.556675Z",
     "start_time": "2025-06-09T08:03:39.402250Z"
    }
   },
   "source": [
    "print(gdf_local_district.shape)\n",
    "gdf_local_district.head()"
   ],
   "outputs": [
    {
     "name": "stdout",
     "output_type": "stream",
     "text": [
      "(213, 13)\n"
     ]
    },
    {
     "data": {
      "text/plain": [
       "   FID  OBJECTID PROVINCE CATEGORY                CAT2  CAT_B  \\\n",
       "0    0       197       WC        B  Local Municipality  WC032   \n",
       "1    1       138       WC        B  Local Municipality  WC033   \n",
       "2    2       160       WC        B  Local Municipality  WC031   \n",
       "3    3       142       WC        B  Local Municipality  WC043   \n",
       "4    4       141       WC        B  Local Municipality  WC042   \n",
       "\n",
       "         MUNICNAME                 NAMECODE  \\\n",
       "0       Overstrand       Overstrand (WC032)   \n",
       "1     Cape Agulhas     Cape Agulhas (WC033)   \n",
       "2  Theewaterskloof  Theewaterskloof (WC031)   \n",
       "3       Mossel Bay       Mossel Bay (WC043)   \n",
       "4         Hessequa         Hessequa (WC042)   \n",
       "\n",
       "                            MAP_TITLE DISTRICT    DISTRICT_N           DATE  \\\n",
       "0       Overstrand Local Municipality      DC3      Overberg  1561420800000   \n",
       "1     Cape Agulhas Local Municipality      DC3      Overberg  1561420800000   \n",
       "2  Theewaterskloof Local Municipality      DC3      Overberg  1561420800000   \n",
       "3       Mossel Bay Local Municipality      DC4  Garden Route  1561420800000   \n",
       "4         Hessequa Local Municipality      DC4  Garden Route  1561420800000   \n",
       "\n",
       "                                            geometry  \n",
       "0  MULTIPOLYGON (((19.41807 -34.68668, 19.41806 -...  \n",
       "1  POLYGON ((20.06351 -34.21699, 20.04797 -34.210...  \n",
       "2  POLYGON ((19.2974 -33.88968, 19.27819 -33.8794...  \n",
       "3  POLYGON ((22.12817 -33.85624, 22.12368 -33.846...  \n",
       "4  POLYGON ((21.74781 -33.81114, 21.74766 -33.811...  "
      ],
      "text/html": [
       "<div>\n",
       "<style scoped>\n",
       "    .dataframe tbody tr th:only-of-type {\n",
       "        vertical-align: middle;\n",
       "    }\n",
       "\n",
       "    .dataframe tbody tr th {\n",
       "        vertical-align: top;\n",
       "    }\n",
       "\n",
       "    .dataframe thead th {\n",
       "        text-align: right;\n",
       "    }\n",
       "</style>\n",
       "<table border=\"1\" class=\"dataframe\">\n",
       "  <thead>\n",
       "    <tr style=\"text-align: right;\">\n",
       "      <th></th>\n",
       "      <th>FID</th>\n",
       "      <th>OBJECTID</th>\n",
       "      <th>PROVINCE</th>\n",
       "      <th>CATEGORY</th>\n",
       "      <th>CAT2</th>\n",
       "      <th>CAT_B</th>\n",
       "      <th>MUNICNAME</th>\n",
       "      <th>NAMECODE</th>\n",
       "      <th>MAP_TITLE</th>\n",
       "      <th>DISTRICT</th>\n",
       "      <th>DISTRICT_N</th>\n",
       "      <th>DATE</th>\n",
       "      <th>geometry</th>\n",
       "    </tr>\n",
       "  </thead>\n",
       "  <tbody>\n",
       "    <tr>\n",
       "      <th>0</th>\n",
       "      <td>0</td>\n",
       "      <td>197</td>\n",
       "      <td>WC</td>\n",
       "      <td>B</td>\n",
       "      <td>Local Municipality</td>\n",
       "      <td>WC032</td>\n",
       "      <td>Overstrand</td>\n",
       "      <td>Overstrand (WC032)</td>\n",
       "      <td>Overstrand Local Municipality</td>\n",
       "      <td>DC3</td>\n",
       "      <td>Overberg</td>\n",
       "      <td>1561420800000</td>\n",
       "      <td>MULTIPOLYGON (((19.41807 -34.68668, 19.41806 -...</td>\n",
       "    </tr>\n",
       "    <tr>\n",
       "      <th>1</th>\n",
       "      <td>1</td>\n",
       "      <td>138</td>\n",
       "      <td>WC</td>\n",
       "      <td>B</td>\n",
       "      <td>Local Municipality</td>\n",
       "      <td>WC033</td>\n",
       "      <td>Cape Agulhas</td>\n",
       "      <td>Cape Agulhas (WC033)</td>\n",
       "      <td>Cape Agulhas Local Municipality</td>\n",
       "      <td>DC3</td>\n",
       "      <td>Overberg</td>\n",
       "      <td>1561420800000</td>\n",
       "      <td>POLYGON ((20.06351 -34.21699, 20.04797 -34.210...</td>\n",
       "    </tr>\n",
       "    <tr>\n",
       "      <th>2</th>\n",
       "      <td>2</td>\n",
       "      <td>160</td>\n",
       "      <td>WC</td>\n",
       "      <td>B</td>\n",
       "      <td>Local Municipality</td>\n",
       "      <td>WC031</td>\n",
       "      <td>Theewaterskloof</td>\n",
       "      <td>Theewaterskloof (WC031)</td>\n",
       "      <td>Theewaterskloof Local Municipality</td>\n",
       "      <td>DC3</td>\n",
       "      <td>Overberg</td>\n",
       "      <td>1561420800000</td>\n",
       "      <td>POLYGON ((19.2974 -33.88968, 19.27819 -33.8794...</td>\n",
       "    </tr>\n",
       "    <tr>\n",
       "      <th>3</th>\n",
       "      <td>3</td>\n",
       "      <td>142</td>\n",
       "      <td>WC</td>\n",
       "      <td>B</td>\n",
       "      <td>Local Municipality</td>\n",
       "      <td>WC043</td>\n",
       "      <td>Mossel Bay</td>\n",
       "      <td>Mossel Bay (WC043)</td>\n",
       "      <td>Mossel Bay Local Municipality</td>\n",
       "      <td>DC4</td>\n",
       "      <td>Garden Route</td>\n",
       "      <td>1561420800000</td>\n",
       "      <td>POLYGON ((22.12817 -33.85624, 22.12368 -33.846...</td>\n",
       "    </tr>\n",
       "    <tr>\n",
       "      <th>4</th>\n",
       "      <td>4</td>\n",
       "      <td>141</td>\n",
       "      <td>WC</td>\n",
       "      <td>B</td>\n",
       "      <td>Local Municipality</td>\n",
       "      <td>WC042</td>\n",
       "      <td>Hessequa</td>\n",
       "      <td>Hessequa (WC042)</td>\n",
       "      <td>Hessequa Local Municipality</td>\n",
       "      <td>DC4</td>\n",
       "      <td>Garden Route</td>\n",
       "      <td>1561420800000</td>\n",
       "      <td>POLYGON ((21.74781 -33.81114, 21.74766 -33.811...</td>\n",
       "    </tr>\n",
       "  </tbody>\n",
       "</table>\n",
       "</div>"
      ]
     },
     "execution_count": 24,
     "metadata": {},
     "output_type": "execute_result"
    }
   ],
   "execution_count": 24
  },
  {
   "cell_type": "code",
   "id": "1a0b1d5e",
   "metadata": {
    "ExecuteTime": {
     "end_time": "2025-06-09T08:04:08.590966Z",
     "start_time": "2025-06-09T08:04:08.219628Z"
    }
   },
   "source": [
    "import sqlite3\n",
    "\n",
    "# Create a connection to the SQLite database\n",
    "conn = sqlite3.connect('geodata.db')\n",
    "\n",
    "# Save gdf_province to the database\n",
    "gdf_province.to_sql('province', conn, if_exists='replace', index=False)\n",
    "\n",
    "# Save gdf_district to the database\n",
    "gdf_district.to_sql('district', conn, if_exists='replace', index=False)\n",
    "\n",
    "# Save gdf_local_district to the database\n",
    "gdf_local_district.to_sql('local_district', conn, if_exists='replace', index=False)\n",
    "\n",
    "# Save gdf__country to the database\n",
    "gdf__country.to_sql('country', conn, if_exists='replace', index=False)\n",
    "\n",
    "# Close the connection\n",
    "conn.close()"
   ],
   "outputs": [],
   "execution_count": 27
  },
  {
   "cell_type": "code",
   "id": "2aef1b54",
   "metadata": {
    "ExecuteTime": {
     "end_time": "2025-06-09T08:04:03.079760Z",
     "start_time": "2025-06-09T08:04:01.914963Z"
    }
   },
   "source": [
    "from shapely import wkt\n",
    "\n",
    "# Convert the geometry column of gdf_district to WKT\n",
    "gdf_district['geometry'] = gdf_district['geometry'].apply(lambda geom: geom.wkt)\n",
    "\n",
    "# Convert the geometry column of gdf_local_district to WKT\n",
    "gdf_local_district['geometry'] = gdf_local_district['geometry'].apply(lambda geom: geom.wkt)\n",
    "\n",
    "# Convert the geometry column of gdf__country to WKT\n",
    "gdf__country['geometry'] = gdf__country['geometry'].apply(lambda geom: geom.wkt)"
   ],
   "outputs": [
    {
     "name": "stderr",
     "output_type": "stream",
     "text": [
      "/tmp/ipykernel_39348/1840474641.py:4: UserWarning: Geometry column does not contain geometry.\n",
      "  gdf_district['geometry'] = gdf_district['geometry'].apply(lambda geom: geom.wkt)\n",
      "/tmp/ipykernel_39348/1840474641.py:7: UserWarning: Geometry column does not contain geometry.\n",
      "  gdf_local_district['geometry'] = gdf_local_district['geometry'].apply(lambda geom: geom.wkt)\n",
      "/tmp/ipykernel_39348/1840474641.py:10: UserWarning: Geometry column does not contain geometry.\n",
      "  gdf__country['geometry'] = gdf__country['geometry'].apply(lambda geom: geom.wkt)\n"
     ]
    }
   ],
   "execution_count": 26
  },
  {
   "cell_type": "code",
   "execution_count": 1,
   "id": "11c32375",
   "metadata": {},
   "outputs": [],
   "source": [
    "# from fastapi import FastAPI\n",
    "# import uvicorn\n",
    "# from threading import Thread\n",
    "\n",
    "# app = FastAPI()\n",
    "\n",
    "# @app.get(\"/country\")\n",
    "# def get_country():\n",
    "#     # conn = sqlite3.connect('geodata.db')\n",
    "#     # query = \"SELECT * FROM country\"\n",
    "#     # df = pd.read_sql_query(query, conn)\n",
    "#     # conn.close()\n",
    "#     # return df.to_dict(orient='records')\n",
    "#     return {\"Country\":\"ZA\"}\n",
    "\n",
    "# def run():\n",
    "#     uvicorn.run(app, host=\"127.0.0.1\", port=8000)\n",
    "\n",
    "# Thread(target=run).start()"
   ]
  },
  {
   "cell_type": "code",
   "execution_count": 22,
   "id": "32dd9a57",
   "metadata": {},
   "outputs": [],
   "source": [
    "# pip install fastapi uvicorn[standard] sqlalchemy\n"
   ]
  },
  {
   "cell_type": "code",
   "execution_count": 1,
   "id": "a259824c",
   "metadata": {},
   "outputs": [],
   "source": [
    "from fastapi import FastAPI, HTTPException\n",
    "from pydantic import BaseModel\n",
    "from typing import List, Optional\n",
    "import sqlite3\n",
    "import uvicorn\n",
    "from threading import Thread"
   ]
  },
  {
   "cell_type": "code",
   "execution_count": 2,
   "id": "efdf744c",
   "metadata": {},
   "outputs": [],
   "source": [
    "app = FastAPI()\n",
    "DB_PATH = \"./geodata.db\"\n",
    "\n",
    "# ---------- Database Helper ----------\n",
    "def get_connection():\n",
    "    conn = sqlite3.connect(DB_PATH)\n",
    "    conn.row_factory = sqlite3.Row\n",
    "    return conn\n"
   ]
  },
  {
   "cell_type": "code",
   "execution_count": 3,
   "id": "66e6e2ea",
   "metadata": {},
   "outputs": [],
   "source": [
    "class Province(BaseModel):\n",
    "    PR_MDB_C: Optional[str]\n",
    "    PR_CODE: Optional[int]\n",
    "    PR_CODE_st: Optional[int]\n",
    "    PR_NAME: Optional[str]\n",
    "    ALBERS_ARE: Optional[float]\n",
    "    SHAPE_Leng: Optional[float]\n",
    "    X: Optional[float]\n",
    "    Y: Optional[float]\n",
    "    Shape__Area: Optional[float]\n",
    "    Shape__Length: Optional[float]\n",
    "    FID: int\n",
    "\n",
    "class District(BaseModel):\n",
    "    FID: int\n",
    "    PROVINCE: Optional[str]\n",
    "    DISTRICT: Optional[str]\n",
    "    DISTRICT_N: Optional[str]\n",
    "    DATE: Optional[int]\n",
    "    CATEGORY: Optional[str]\n",
    "    geometry: Optional[str]\n",
    "\n",
    "class LocalDistrict(BaseModel):\n",
    "    FID: int\n",
    "    OBJECTID: Optional[int]\n",
    "    PROVINCE: Optional[str]\n",
    "    CATEGORY: Optional[str]\n",
    "    CAT2: Optional[str]\n",
    "    CAT_B: Optional[str]\n",
    "    MUNICNAME: Optional[str]\n",
    "    NAMECODE: Optional[str]\n",
    "    MAP_TITLE: Optional[str]\n",
    "    DISTRICT: Optional[str]\n",
    "    DISTRICT_N: Optional[str]\n",
    "    DATE: Optional[int]\n",
    "    geometry: Optional[str]\n",
    "\n",
    "class Country(BaseModel):\n",
    "    shape0: Optional[str]\n",
    "    shapeiso: Optional[str]\n",
    "    shapeid: Optional[str]\n",
    "    shapegroup: Optional[str]\n",
    "    shapetype: Optional[str]\n",
    "    gid: int\n",
    "    geometry: Optional[str]\n",
    "\n",
    "class NamedItem(BaseModel):\n",
    "    id: int\n",
    "    code: str\n",
    "    name: str\n"
   ]
  },
  {
   "cell_type": "code",
   "id": "a6824ef5",
   "metadata": {
    "ExecuteTime": {
     "end_time": "2025-06-09T08:26:35.415527Z",
     "start_time": "2025-06-09T08:26:35.198170Z"
    }
   },
   "source": [
    "@app.get(\"/province\", response_model=List[Province])\n",
    "def get_provinces():\n",
    "    with get_connection() as conn:\n",
    "        rows = conn.execute(\"SELECT * FROM province\").fetchall()\n",
    "        print(rows)\n",
    "        return [dict(row) for row in rows]\n",
    "\n",
    "@app.get(\"/district\", response_model=List[District])\n",
    "def get_districts():\n",
    "    with get_connection() as conn:\n",
    "        rows = conn.execute(\"SELECT * FROM district\").fetchall()\n",
    "        return [dict(row) for row in rows]\n",
    "\n",
    "@app.get(\"/local_district\", response_model=List[LocalDistrict])\n",
    "def get_local_districts():\n",
    "    with get_connection() as conn:\n",
    "        rows = conn.execute(\"SELECT * FROM local_district\").fetchall()\n",
    "        return [dict(row) for row in rows]\n",
    "\n",
    "@app.get(\"/country\", response_model=List[Country])\n",
    "def get_countries():\n",
    "    with get_connection() as conn:\n",
    "        rows = conn.execute(\"SELECT * FROM country\").fetchall()\n",
    "        return [dict(row) for row in rows]\n",
    "\n",
    "@app.get(\"/province/{fid}\", response_model=Province)\n",
    "def get_province_by_id(fid: int):\n",
    "    with get_connection() as conn:\n",
    "        row = conn.execute(\"SELECT * FROM province WHERE FID = ?\", (fid,)).fetchone()\n",
    "        if row is None:\n",
    "            raise HTTPException(status_code=404, detail=\"Province not found\")\n",
    "        return dict(row)\n",
    "\n",
    "@app.get(\"/district/{fid}\", response_model=District)\n",
    "def get_district_by_id(fid: int):\n",
    "    with get_connection() as conn:\n",
    "        row = conn.execute(\"SELECT * FROM district WHERE FID = ?\", (fid,)).fetchone()\n",
    "        if row is None:\n",
    "            raise HTTPException(status_code=404, detail=\"District not found\")\n",
    "        return dict(row)\n",
    "\n",
    "@app.get(\"/local_district/{fid}\", response_model=LocalDistrict)\n",
    "def get_local_district_by_id(fid: int):\n",
    "    with get_connection() as conn:\n",
    "        row = conn.execute(\"SELECT * FROM local_district WHERE FID = ?\", (fid,)).fetchone()\n",
    "        if row is None:\n",
    "            raise HTTPException(status_code=404, detail=\"Local District not found\")\n",
    "        return dict(row)\n",
    "\n",
    "@app.get(\"/country/{gid}\", response_model=Country)\n",
    "def get_country_by_id(gid: int):\n",
    "    with get_connection() as conn:\n",
    "        row = conn.execute(\"SELECT * FROM country WHERE gid = ?\", (gid,)).fetchone()\n",
    "        if row is None:\n",
    "            raise HTTPException(status_code=404, detail=\"Country not found\")\n",
    "        return dict(row)\n"
   ],
   "outputs": [
    {
     "ename": "NameError",
     "evalue": "name 'app' is not defined",
     "output_type": "error",
     "traceback": [
      "\u001B[0;31m---------------------------------------------------------------------------\u001B[0m",
      "\u001B[0;31mNameError\u001B[0m                                 Traceback (most recent call last)",
      "Cell \u001B[0;32mIn[32], line 1\u001B[0m\n\u001B[0;32m----> 1\u001B[0m \u001B[38;5;129m@app\u001B[39m\u001B[38;5;241m.\u001B[39mget(\u001B[38;5;124m\"\u001B[39m\u001B[38;5;124m/province\u001B[39m\u001B[38;5;124m\"\u001B[39m, response_model\u001B[38;5;241m=\u001B[39mList[Province])\n\u001B[1;32m      2\u001B[0m \u001B[38;5;28;01mdef\u001B[39;00m\u001B[38;5;250m \u001B[39m\u001B[38;5;21mget_provinces\u001B[39m():\n\u001B[1;32m      3\u001B[0m     \u001B[38;5;28;01mwith\u001B[39;00m get_connection() \u001B[38;5;28;01mas\u001B[39;00m conn:\n\u001B[1;32m      4\u001B[0m         rows \u001B[38;5;241m=\u001B[39m conn\u001B[38;5;241m.\u001B[39mexecute(\u001B[38;5;124m\"\u001B[39m\u001B[38;5;124mSELECT * FROM province\u001B[39m\u001B[38;5;124m\"\u001B[39m)\u001B[38;5;241m.\u001B[39mfetchall()\n",
      "\u001B[0;31mNameError\u001B[0m: name 'app' is not defined"
     ]
    }
   ],
   "execution_count": 32
  },
  {
   "cell_type": "code",
   "execution_count": 5,
   "id": "47ee4422",
   "metadata": {},
   "outputs": [],
   "source": [
    "# ---------- Drill-down Filter Endpoints ----------\n",
    "@app.get(\"/names/provinces\", response_model=List[NamedItem])\n",
    "def list_province_names():\n",
    "    with get_connection() as conn:\n",
    "        rows = conn.execute(\"SELECT FID AS id, PR_MDB_C as code,PR_NAME AS name FROM province ORDER BY PR_NAME\").fetchall()\n",
    "        return [dict(row) for row in rows]\n",
    "\n",
    "@app.get(\"/names/districts/by_province/{province_name}\", response_model=List[NamedItem])\n",
    "def list_districts_by_province(province_name: str):\n",
    "    with get_connection() as conn:\n",
    "        rows = conn.execute(\"SELECT FID AS id, DISTRICT AS code, DISTRICT_N as name FROM district WHERE PROVINCE = ? ORDER BY DISTRICT\", (province_name,)).fetchall()\n",
    "        return [dict(row) for row in rows]\n",
    "\n",
    "@app.get(\"/names/local_districts/by_district/{district_name}\", response_model=List[NamedItem])\n",
    "def list_local_districts_by_district(district_name: str):\n",
    "    with get_connection() as conn:\n",
    "        rows = conn.execute(\"SELECT FID AS id, CAT_B as code, MUNICNAME AS name FROM local_district WHERE DISTRICT = ? ORDER BY MUNICNAME\", (district_name,)).fetchall()\n",
    "        return [dict(row) for row in rows]\n",
    "\n",
    "@app.get(\"/names/local_districts/by_province/{province_name}\", response_model=List[NamedItem])\n",
    "def list_local_districts_by_province(province_name: str):\n",
    "    with get_connection() as conn:\n",
    "        rows = conn.execute(\"SELECT FID AS id, CAT_B as code, MUNICNAME AS name FROM local_district WHERE PROVINCE = ? ORDER BY MUNICNAME\", (province_name,)).fetchall()\n",
    "        return [dict(row) for row in rows]\n",
    "\n",
    "@app.get(\"/names/countries\", response_model=List[NamedItem])\n",
    "def list_countries():\n",
    "    with get_connection() as conn:\n",
    "        rows = conn.execute(\"SELECT gid AS id,shapeiso as code, shape0 AS name FROM country ORDER BY shape0\").fetchall()\n",
    "        return [dict(row) for row in rows]\n"
   ]
  },
  {
   "cell_type": "code",
   "execution_count": null,
   "id": "ca3b72bd",
   "metadata": {},
   "outputs": [
    {
     "name": "stderr",
     "output_type": "stream",
     "text": [
      "INFO:     Started server process [1005414]\n",
      "INFO:     Waiting for application startup.\n",
      "INFO:     Application startup complete.\n",
      "INFO:     Uvicorn running on http://127.0.0.1:8000 (Press CTRL+C to quit)\n"
     ]
    },
    {
     "name": "stdout",
     "output_type": "stream",
     "text": [
      "INFO:     127.0.0.1:55600 - \"GET / HTTP/1.1\" 404 Not Found\n",
      "INFO:     127.0.0.1:55606 - \"GET /docs HTTP/1.1\" 200 OK\n",
      "INFO:     127.0.0.1:55606 - \"GET /openapi.json HTTP/1.1\" 200 OK\n",
      "INFO:     127.0.0.1:55606 - \"GET /names/countries HTTP/1.1\" 200 OK\n"
     ]
    }
   ],
   "source": [
    "def run():\n",
    "    uvicorn.run(app, host=\"127.0.0.1\", port=8000)\n",
    "\n",
    "Thread(target=run).start()"
   ]
  },
  {
   "cell_type": "code",
   "execution_count": null,
   "id": "70c1cbbb",
   "metadata": {},
   "outputs": [],
   "source": []
  },
  {
   "cell_type": "code",
   "execution_count": null,
   "id": "21d9bcef",
   "metadata": {},
   "outputs": [],
   "source": []
  }
 ],
 "metadata": {
  "kernelspec": {
   "display_name": "base",
   "language": "python",
   "name": "python3"
  },
  "language_info": {
   "codemirror_mode": {
    "name": "ipython",
    "version": 3
   },
   "file_extension": ".py",
   "mimetype": "text/x-python",
   "name": "python",
   "nbconvert_exporter": "python",
   "pygments_lexer": "ipython3",
   "version": "3.12.7"
  }
 },
 "nbformat": 4,
 "nbformat_minor": 5
}
